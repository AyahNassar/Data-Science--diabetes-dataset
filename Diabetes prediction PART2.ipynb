{
 "cells": [
  {
   "attachments": {},
   "cell_type": "markdown",
   "id": "87a34b8e",
   "metadata": {
    "id": "87a34b8e"
   },
   "source": [
    "NAME = \"Ayah Nassar\"\n"
   ]
  },
  {
   "attachments": {},
   "cell_type": "markdown",
   "id": "64d043cc",
   "metadata": {
    "id": "64d043cc"
   },
   "source": [
    "## Introduction"
   ]
  },
  {
   "attachments": {},
   "cell_type": "markdown",
   "id": "0d21b8d8",
   "metadata": {
    "id": "0d21b8d8"
   },
   "source": [
    "In this file (Part II), we will apply supervised machine learning models on the same dataset that was used in part1 (Pima-Indians-Diabetes-Data), evaluate its perofrmance, and identify the best models. \n",
    "\n",
    "Given a dataset of patients who had or did not have diabetes, we do need to build:\n",
    "\n",
    "A) **Classification models** which can determine based on a given test dataset not containing the outcome (diabetes) data, whether a patient in the test dataset has diabetes or not.\n",
    "\n",
    "B) **Regression models** which can determine based on a given test dataset not containing the outcome (glucose), what is the glucose measure for every patient.\n"
   ]
  },
  {
   "attachments": {},
   "cell_type": "markdown",
   "id": "44df69be",
   "metadata": {
    "id": "44df69be"
   },
   "source": [
    "## A. Classification Models "
   ]
  },
  {
   "attachments": {},
   "cell_type": "markdown",
   "id": "bdf2cba6",
   "metadata": {
    "id": "bdf2cba6"
   },
   "source": [
    "**A.1. Data preparation** \n",
    "* we will List the relevant features which we will use for classification and explain why. (*a relevant feature is a feature that can have an impact on the chance of having diabetes for a patient*).\n",
    "\n",
    "*then we will Divide our data into a training set (70%) and a testing set (30%). All models will be trained and tested on the same splits.\n",
    "    \n",
    "\n",
    "**A.2. Classification models**  \n",
    "* we will Train three different classification models of our choice using the training set. Explain the rationale behind selecting each of these three algorithms. we will refer to the following guidlines for model selection: \n",
    "    * Diagram from scikit-learn: https://scikit-learn.org/stable/tutorial/machine_learning_map/\n",
    "    * Models comparison table: https://docs.google.com/spreadsheets/d/16i47Wmjpj8k-mFRk-NnXXU5tmSQz8h37YxluDV8Zy9U/edit#gid=0\n",
    "\n",
    "**A.3. Evaluation of classification models** \n",
    "* we will Evaluate the performance of our three classification models on the testing set using the following metrics: accuracy, area under the curve (AUC), precision, and recall.\n",
    "* then Based on the models evaluation results, we will state what is the best model and why?\n",
    "* then we will see How can we improve the performance of the models?\n"
   ]
  },
  {
   "cell_type": "code",
   "execution_count": 40,
   "id": "b2368efc",
   "metadata": {
    "id": "b2368efc"
   },
   "outputs": [],
   "source": [
    "# import necessary libraries\n",
    "import numpy as np\n",
    "import pandas as pd\n",
    "import seaborn as sns\n",
    "\n",
    "from sklearn.model_selection import train_test_split\n",
    "from sklearn.naive_bayes import GaussianNB\n",
    "from sklearn.metrics import f1_score\n",
    "from sklearn.linear_model import LogisticRegression\n",
    "from sklearn.linear_model import LinearRegression\n",
    "from sklearn.ensemble import RandomForestRegressor\n",
    "from sklearn.metrics import accuracy_score, roc_auc_score, precision_score, recall_score\n",
    "from sklearn.svm import SVC\n",
    "from sklearn.metrics import mean_absolute_error, mean_squared_error, r2_score"
   ]
  },
  {
   "attachments": {},
   "cell_type": "markdown",
   "id": "27b4e480",
   "metadata": {
    "id": "27b4e480"
   },
   "source": [
    "# A1)"
   ]
  },
  {
   "attachments": {},
   "cell_type": "markdown",
   "id": "07d97f5c",
   "metadata": {
    "id": "07d97f5c"
   },
   "source": [
    "List the relevant features which we will use for classification and explain why (a relevant feature is a feature that can have an impact on the chance of having diabetes for a patient).\n",
    "\n"
   ]
  },
  {
   "cell_type": "code",
   "execution_count": 41,
   "id": "3f0dc8e7",
   "metadata": {
    "id": "3f0dc8e7"
   },
   "outputs": [
    {
     "data": {
      "text/html": [
       "<div>\n",
       "<style scoped>\n",
       "    .dataframe tbody tr th:only-of-type {\n",
       "        vertical-align: middle;\n",
       "    }\n",
       "\n",
       "    .dataframe tbody tr th {\n",
       "        vertical-align: top;\n",
       "    }\n",
       "\n",
       "    .dataframe thead th {\n",
       "        text-align: right;\n",
       "    }\n",
       "</style>\n",
       "<table border=\"1\" class=\"dataframe\">\n",
       "  <thead>\n",
       "    <tr style=\"text-align: right;\">\n",
       "      <th></th>\n",
       "      <th>Pregnancies</th>\n",
       "      <th>Glucose</th>\n",
       "      <th>BloodPressure</th>\n",
       "      <th>SkinThickness</th>\n",
       "      <th>Insulin</th>\n",
       "      <th>BMI</th>\n",
       "      <th>DiabetesPedigreeFunction</th>\n",
       "      <th>Age</th>\n",
       "      <th>Outcome</th>\n",
       "    </tr>\n",
       "  </thead>\n",
       "  <tbody>\n",
       "    <tr>\n",
       "      <th>0</th>\n",
       "      <td>6</td>\n",
       "      <td>148</td>\n",
       "      <td>72</td>\n",
       "      <td>35</td>\n",
       "      <td>0</td>\n",
       "      <td>33.6</td>\n",
       "      <td>0.627</td>\n",
       "      <td>50</td>\n",
       "      <td>1</td>\n",
       "    </tr>\n",
       "    <tr>\n",
       "      <th>1</th>\n",
       "      <td>1</td>\n",
       "      <td>85</td>\n",
       "      <td>66</td>\n",
       "      <td>29</td>\n",
       "      <td>0</td>\n",
       "      <td>26.6</td>\n",
       "      <td>0.351</td>\n",
       "      <td>31</td>\n",
       "      <td>0</td>\n",
       "    </tr>\n",
       "    <tr>\n",
       "      <th>2</th>\n",
       "      <td>8</td>\n",
       "      <td>183</td>\n",
       "      <td>64</td>\n",
       "      <td>0</td>\n",
       "      <td>0</td>\n",
       "      <td>23.3</td>\n",
       "      <td>0.672</td>\n",
       "      <td>32</td>\n",
       "      <td>1</td>\n",
       "    </tr>\n",
       "    <tr>\n",
       "      <th>3</th>\n",
       "      <td>1</td>\n",
       "      <td>89</td>\n",
       "      <td>66</td>\n",
       "      <td>23</td>\n",
       "      <td>94</td>\n",
       "      <td>28.1</td>\n",
       "      <td>0.167</td>\n",
       "      <td>21</td>\n",
       "      <td>0</td>\n",
       "    </tr>\n",
       "    <tr>\n",
       "      <th>4</th>\n",
       "      <td>0</td>\n",
       "      <td>137</td>\n",
       "      <td>40</td>\n",
       "      <td>35</td>\n",
       "      <td>168</td>\n",
       "      <td>43.1</td>\n",
       "      <td>2.288</td>\n",
       "      <td>33</td>\n",
       "      <td>1</td>\n",
       "    </tr>\n",
       "    <tr>\n",
       "      <th>...</th>\n",
       "      <td>...</td>\n",
       "      <td>...</td>\n",
       "      <td>...</td>\n",
       "      <td>...</td>\n",
       "      <td>...</td>\n",
       "      <td>...</td>\n",
       "      <td>...</td>\n",
       "      <td>...</td>\n",
       "      <td>...</td>\n",
       "    </tr>\n",
       "    <tr>\n",
       "      <th>763</th>\n",
       "      <td>10</td>\n",
       "      <td>101</td>\n",
       "      <td>76</td>\n",
       "      <td>48</td>\n",
       "      <td>180</td>\n",
       "      <td>32.9</td>\n",
       "      <td>0.171</td>\n",
       "      <td>63</td>\n",
       "      <td>0</td>\n",
       "    </tr>\n",
       "    <tr>\n",
       "      <th>764</th>\n",
       "      <td>2</td>\n",
       "      <td>122</td>\n",
       "      <td>70</td>\n",
       "      <td>27</td>\n",
       "      <td>0</td>\n",
       "      <td>36.8</td>\n",
       "      <td>0.340</td>\n",
       "      <td>27</td>\n",
       "      <td>0</td>\n",
       "    </tr>\n",
       "    <tr>\n",
       "      <th>765</th>\n",
       "      <td>5</td>\n",
       "      <td>121</td>\n",
       "      <td>72</td>\n",
       "      <td>23</td>\n",
       "      <td>112</td>\n",
       "      <td>26.2</td>\n",
       "      <td>0.245</td>\n",
       "      <td>30</td>\n",
       "      <td>0</td>\n",
       "    </tr>\n",
       "    <tr>\n",
       "      <th>766</th>\n",
       "      <td>1</td>\n",
       "      <td>126</td>\n",
       "      <td>60</td>\n",
       "      <td>0</td>\n",
       "      <td>0</td>\n",
       "      <td>30.1</td>\n",
       "      <td>0.349</td>\n",
       "      <td>47</td>\n",
       "      <td>1</td>\n",
       "    </tr>\n",
       "    <tr>\n",
       "      <th>767</th>\n",
       "      <td>1</td>\n",
       "      <td>93</td>\n",
       "      <td>70</td>\n",
       "      <td>31</td>\n",
       "      <td>0</td>\n",
       "      <td>30.4</td>\n",
       "      <td>0.315</td>\n",
       "      <td>23</td>\n",
       "      <td>0</td>\n",
       "    </tr>\n",
       "  </tbody>\n",
       "</table>\n",
       "<p>768 rows × 9 columns</p>\n",
       "</div>"
      ],
      "text/plain": [
       "     Pregnancies  Glucose  BloodPressure  SkinThickness  Insulin   BMI  \\\n",
       "0              6      148             72             35        0  33.6   \n",
       "1              1       85             66             29        0  26.6   \n",
       "2              8      183             64              0        0  23.3   \n",
       "3              1       89             66             23       94  28.1   \n",
       "4              0      137             40             35      168  43.1   \n",
       "..           ...      ...            ...            ...      ...   ...   \n",
       "763           10      101             76             48      180  32.9   \n",
       "764            2      122             70             27        0  36.8   \n",
       "765            5      121             72             23      112  26.2   \n",
       "766            1      126             60              0        0  30.1   \n",
       "767            1       93             70             31        0  30.4   \n",
       "\n",
       "     DiabetesPedigreeFunction  Age  Outcome  \n",
       "0                       0.627   50        1  \n",
       "1                       0.351   31        0  \n",
       "2                       0.672   32        1  \n",
       "3                       0.167   21        0  \n",
       "4                       2.288   33        1  \n",
       "..                        ...  ...      ...  \n",
       "763                     0.171   63        0  \n",
       "764                     0.340   27        0  \n",
       "765                     0.245   30        0  \n",
       "766                     0.349   47        1  \n",
       "767                     0.315   23        0  \n",
       "\n",
       "[768 rows x 9 columns]"
      ]
     },
     "execution_count": 41,
     "metadata": {},
     "output_type": "execute_result"
    }
   ],
   "source": [
    "# reload the original dataset and reclean it \n",
    "df = pd.read_csv('diabetes.csv')\n",
    "df"
   ]
  },
  {
   "cell_type": "code",
   "execution_count": 42,
   "id": "E52A8H-AProi",
   "metadata": {
    "id": "E52A8H-AProi"
   },
   "outputs": [],
   "source": [
    "# Replace missing values with NaN\n",
    "df[['Pregnancies', 'Glucose', 'Insulin', 'BMI', 'Age','BloodPressure', 'SkinThickness','DiabetesPedigreeFunction']] = df[['Pregnancies', 'Glucose', 'Insulin', 'BMI', 'Age','BloodPressure', 'SkinThickness','DiabetesPedigreeFunction']].replace(0, np.NaN)\n"
   ]
  },
  {
   "cell_type": "code",
   "execution_count": 43,
   "id": "Sl4TEl1jP1EE",
   "metadata": {
    "id": "Sl4TEl1jP1EE"
   },
   "outputs": [],
   "source": [
    "# Remove rows with missing values\n",
    "df.dropna(inplace=True)"
   ]
  },
  {
   "cell_type": "code",
   "execution_count": null,
   "id": "vNMJQnW0MsaK",
   "metadata": {
    "id": "vNMJQnW0MsaK"
   },
   "outputs": [],
   "source": [
    "#df.fillna(df.mean(),inplace=True)\n",
    "# not working"
   ]
  },
  {
   "cell_type": "code",
   "execution_count": 44,
   "id": "OS--BZiz90Nl",
   "metadata": {
    "id": "OS--BZiz90Nl"
   },
   "outputs": [],
   "source": [
    "# Remove outliers\n",
    "df = df[(df['BMI'] < 60) & (df['Insulin'] < 600)]"
   ]
  },
  {
   "cell_type": "code",
   "execution_count": 45,
   "id": "27cb285f",
   "metadata": {},
   "outputs": [
    {
     "data": {
      "image/png": "[encoded data removed]",
      "text/plain": [
       "<Figure size 640x480 with 1 Axes>"
      ]
     },
     "metadata": {},
     "output_type": "display_data"
    }
   ],
   "source": [
    "# to know and see selected outliers\n",
    "import matplotlib.pyplot as plt\n",
    "%matplotlib inline\n",
    "sns.boxplot(data = df)\n",
    "plt.xticks(rotation = 90)\n",
    "plt.show()"
   ]
  },
  {
   "cell_type": "code",
   "execution_count": 46,
   "id": "806f5ea8",
   "metadata": {
    "id": "806f5ea8"
   },
   "outputs": [
    {
     "name": "stdout",
     "output_type": "stream",
     "text": [
      "<class 'pandas.core.frame.DataFrame'>\n",
      "Int64Index: 333 entries, 3 to 765\n",
      "Data columns (total 9 columns):\n",
      " #   Column                    Non-Null Count  Dtype  \n",
      "---  ------                    --------------  -----  \n",
      " 0   Pregnancies               333 non-null    float64\n",
      " 1   Glucose                   333 non-null    float64\n",
      " 2   BloodPressure             333 non-null    float64\n",
      " 3   SkinThickness             333 non-null    float64\n",
      " 4   Insulin                   333 non-null    float64\n",
      " 5   BMI                       333 non-null    float64\n",
      " 6   DiabetesPedigreeFunction  333 non-null    float64\n",
      " 7   Age                       333 non-null    int64  \n",
      " 8   Outcome                   333 non-null    int64  \n",
      "dtypes: float64(7), int64(2)\n",
      "memory usage: 26.0 KB\n"
     ]
    }
   ],
   "source": [
    "df.info()"
   ]
  },
  {
   "cell_type": "code",
   "execution_count": 47,
   "id": "ecIXfBP49-FL",
   "metadata": {
    "id": "ecIXfBP49-FL"
   },
   "outputs": [],
   "source": [
    "# Save the cleaned dataset to a new file\n",
    "df.to_csv('diabetes_final_clean.csv', index= False)"
   ]
  },
  {
   "cell_type": "code",
   "execution_count": 48,
   "id": "XrdDo5Ml-DvI",
   "metadata": {
    "id": "XrdDo5Ml-DvI"
   },
   "outputs": [
    {
     "data": {
      "text/html": [
       "<div>\n",
       "<style scoped>\n",
       "    .dataframe tbody tr th:only-of-type {\n",
       "        vertical-align: middle;\n",
       "    }\n",
       "\n",
       "    .dataframe tbody tr th {\n",
       "        vertical-align: top;\n",
       "    }\n",
       "\n",
       "    .dataframe thead th {\n",
       "        text-align: right;\n",
       "    }\n",
       "</style>\n",
       "<table border=\"1\" class=\"dataframe\">\n",
       "  <thead>\n",
       "    <tr style=\"text-align: right;\">\n",
       "      <th></th>\n",
       "      <th>Pregnancies</th>\n",
       "      <th>Glucose</th>\n",
       "      <th>BloodPressure</th>\n",
       "      <th>SkinThickness</th>\n",
       "      <th>Insulin</th>\n",
       "      <th>BMI</th>\n",
       "      <th>DiabetesPedigreeFunction</th>\n",
       "      <th>Age</th>\n",
       "      <th>Outcome</th>\n",
       "    </tr>\n",
       "  </thead>\n",
       "  <tbody>\n",
       "    <tr>\n",
       "      <th>0</th>\n",
       "      <td>1.0</td>\n",
       "      <td>89.0</td>\n",
       "      <td>66.0</td>\n",
       "      <td>23.0</td>\n",
       "      <td>94.0</td>\n",
       "      <td>28.1</td>\n",
       "      <td>0.167</td>\n",
       "      <td>21</td>\n",
       "      <td>0</td>\n",
       "    </tr>\n",
       "    <tr>\n",
       "      <th>1</th>\n",
       "      <td>3.0</td>\n",
       "      <td>78.0</td>\n",
       "      <td>50.0</td>\n",
       "      <td>32.0</td>\n",
       "      <td>88.0</td>\n",
       "      <td>31.0</td>\n",
       "      <td>0.248</td>\n",
       "      <td>26</td>\n",
       "      <td>1</td>\n",
       "    </tr>\n",
       "    <tr>\n",
       "      <th>2</th>\n",
       "      <td>2.0</td>\n",
       "      <td>197.0</td>\n",
       "      <td>70.0</td>\n",
       "      <td>45.0</td>\n",
       "      <td>543.0</td>\n",
       "      <td>30.5</td>\n",
       "      <td>0.158</td>\n",
       "      <td>53</td>\n",
       "      <td>1</td>\n",
       "    </tr>\n",
       "    <tr>\n",
       "      <th>3</th>\n",
       "      <td>5.0</td>\n",
       "      <td>166.0</td>\n",
       "      <td>72.0</td>\n",
       "      <td>19.0</td>\n",
       "      <td>175.0</td>\n",
       "      <td>25.8</td>\n",
       "      <td>0.587</td>\n",
       "      <td>51</td>\n",
       "      <td>1</td>\n",
       "    </tr>\n",
       "    <tr>\n",
       "      <th>4</th>\n",
       "      <td>1.0</td>\n",
       "      <td>103.0</td>\n",
       "      <td>30.0</td>\n",
       "      <td>38.0</td>\n",
       "      <td>83.0</td>\n",
       "      <td>43.3</td>\n",
       "      <td>0.183</td>\n",
       "      <td>33</td>\n",
       "      <td>0</td>\n",
       "    </tr>\n",
       "    <tr>\n",
       "      <th>...</th>\n",
       "      <td>...</td>\n",
       "      <td>...</td>\n",
       "      <td>...</td>\n",
       "      <td>...</td>\n",
       "      <td>...</td>\n",
       "      <td>...</td>\n",
       "      <td>...</td>\n",
       "      <td>...</td>\n",
       "      <td>...</td>\n",
       "    </tr>\n",
       "    <tr>\n",
       "      <th>328</th>\n",
       "      <td>1.0</td>\n",
       "      <td>121.0</td>\n",
       "      <td>78.0</td>\n",
       "      <td>39.0</td>\n",
       "      <td>74.0</td>\n",
       "      <td>39.0</td>\n",
       "      <td>0.261</td>\n",
       "      <td>28</td>\n",
       "      <td>0</td>\n",
       "    </tr>\n",
       "    <tr>\n",
       "      <th>329</th>\n",
       "      <td>1.0</td>\n",
       "      <td>128.0</td>\n",
       "      <td>88.0</td>\n",
       "      <td>39.0</td>\n",
       "      <td>110.0</td>\n",
       "      <td>36.5</td>\n",
       "      <td>1.057</td>\n",
       "      <td>37</td>\n",
       "      <td>1</td>\n",
       "    </tr>\n",
       "    <tr>\n",
       "      <th>330</th>\n",
       "      <td>2.0</td>\n",
       "      <td>88.0</td>\n",
       "      <td>58.0</td>\n",
       "      <td>26.0</td>\n",
       "      <td>16.0</td>\n",
       "      <td>28.4</td>\n",
       "      <td>0.766</td>\n",
       "      <td>22</td>\n",
       "      <td>0</td>\n",
       "    </tr>\n",
       "    <tr>\n",
       "      <th>331</th>\n",
       "      <td>10.0</td>\n",
       "      <td>101.0</td>\n",
       "      <td>76.0</td>\n",
       "      <td>48.0</td>\n",
       "      <td>180.0</td>\n",
       "      <td>32.9</td>\n",
       "      <td>0.171</td>\n",
       "      <td>63</td>\n",
       "      <td>0</td>\n",
       "    </tr>\n",
       "    <tr>\n",
       "      <th>332</th>\n",
       "      <td>5.0</td>\n",
       "      <td>121.0</td>\n",
       "      <td>72.0</td>\n",
       "      <td>23.0</td>\n",
       "      <td>112.0</td>\n",
       "      <td>26.2</td>\n",
       "      <td>0.245</td>\n",
       "      <td>30</td>\n",
       "      <td>0</td>\n",
       "    </tr>\n",
       "  </tbody>\n",
       "</table>\n",
       "<p>333 rows × 9 columns</p>\n",
       "</div>"
      ],
      "text/plain": [
       "     Pregnancies  Glucose  BloodPressure  SkinThickness  Insulin   BMI  \\\n",
       "0            1.0     89.0           66.0           23.0     94.0  28.1   \n",
       "1            3.0     78.0           50.0           32.0     88.0  31.0   \n",
       "2            2.0    197.0           70.0           45.0    543.0  30.5   \n",
       "3            5.0    166.0           72.0           19.0    175.0  25.8   \n",
       "4            1.0    103.0           30.0           38.0     83.0  43.3   \n",
       "..           ...      ...            ...            ...      ...   ...   \n",
       "328          1.0    121.0           78.0           39.0     74.0  39.0   \n",
       "329          1.0    128.0           88.0           39.0    110.0  36.5   \n",
       "330          2.0     88.0           58.0           26.0     16.0  28.4   \n",
       "331         10.0    101.0           76.0           48.0    180.0  32.9   \n",
       "332          5.0    121.0           72.0           23.0    112.0  26.2   \n",
       "\n",
       "     DiabetesPedigreeFunction  Age  Outcome  \n",
       "0                       0.167   21        0  \n",
       "1                       0.248   26        1  \n",
       "2                       0.158   53        1  \n",
       "3                       0.587   51        1  \n",
       "4                       0.183   33        0  \n",
       "..                        ...  ...      ...  \n",
       "328                     0.261   28        0  \n",
       "329                     1.057   37        1  \n",
       "330                     0.766   22        0  \n",
       "331                     0.171   63        0  \n",
       "332                     0.245   30        0  \n",
       "\n",
       "[333 rows x 9 columns]"
      ]
     },
     "execution_count": 48,
     "metadata": {},
     "output_type": "execute_result"
    }
   ],
   "source": [
    "# now work on the cleaned dataset\n",
    "diabetes_cleaned = pd.read_csv(\"diabetes_final_clean.csv\")\n",
    "diabetes_cleaned"
   ]
  },
  {
   "cell_type": "code",
   "execution_count": 49,
   "id": "sobTX_BRLtYA",
   "metadata": {
    "colab": {
     "base_uri": "https://localhost:8080/"
    },
    "id": "sobTX_BRLtYA",
    "outputId": "1d754654-5c9a-4bca-e969-3572bf4c5c82"
   },
   "outputs": [
    {
     "name": "stdout",
     "output_type": "stream",
     "text": [
      "<class 'pandas.core.frame.DataFrame'>\n",
      "RangeIndex: 333 entries, 0 to 332\n",
      "Data columns (total 9 columns):\n",
      " #   Column                    Non-Null Count  Dtype  \n",
      "---  ------                    --------------  -----  \n",
      " 0   Pregnancies               333 non-null    float64\n",
      " 1   Glucose                   333 non-null    float64\n",
      " 2   BloodPressure             333 non-null    float64\n",
      " 3   SkinThickness             333 non-null    float64\n",
      " 4   Insulin                   333 non-null    float64\n",
      " 5   BMI                       333 non-null    float64\n",
      " 6   DiabetesPedigreeFunction  333 non-null    float64\n",
      " 7   Age                       333 non-null    int64  \n",
      " 8   Outcome                   333 non-null    int64  \n",
      "dtypes: float64(7), int64(2)\n",
      "memory usage: 23.5 KB\n"
     ]
    }
   ],
   "source": [
    "# check if i have null values\n",
    "diabetes_cleaned.info()"
   ]
  },
  {
   "cell_type": "code",
   "execution_count": 50,
   "id": "fccb0a20",
   "metadata": {
    "colab": {
     "base_uri": "https://localhost:8080/",
     "height": 603
    },
    "id": "fccb0a20",
    "outputId": "6caf56e4-ee80-49d2-eed5-618ae59eb767"
   },
   "outputs": [
    {
     "data": {
      "image/png": "[encoded data removed]",
      "text/plain": [
       "<Figure size 640x480 with 2 Axes>"
      ]
     },
     "metadata": {},
     "output_type": "display_data"
    }
   ],
   "source": [
    "# Find the most relevant features by identifying the correlation by plotting a heatmap or correlation matrix\n",
    "sns.heatmap(diabetes_cleaned.corr(),annot=True, cmap=\"Blues\");"
   ]
  },
  {
   "cell_type": "code",
   "execution_count": 51,
   "id": "5c8L5eZkBF4q",
   "metadata": {
    "id": "5c8L5eZkBF4q"
   },
   "outputs": [],
   "source": [
    "# Select relevant features\n",
    "\n",
    "features = ['Pregnancies', 'Glucose', 'Insulin', 'BMI', 'Age']\n",
    "\n",
    "# X as the features\n",
    "X = diabetes_cleaned[features]\n",
    "\n",
    "# y as the targeted column\n",
    "y = diabetes_cleaned['Outcome']\n",
    "\n",
    "# Split the data into training and testing sets\n",
    "X_train, X_test, y_train, y_test = train_test_split(X, y, test_size=0.3, random_state=42)\n",
    "\n",
    "# random_state --> will always shuffle the data in the same way and split it into the same training and testing \n",
    "    #sets each time you run your code with that value.\n",
    "# test_size = 3.0 --> means that 30% of the data will be used for testing, \n",
    "    # and the remaining 70% will be used for training."
   ]
  },
  {
   "attachments": {},
   "cell_type": "markdown",
   "id": "ccb9f4cb",
   "metadata": {
    "id": "ccb9f4cb"
   },
   "source": [
    "# comment\n",
    "i selected these features because i beleive that they are a \n",
    "great factor contributing to diabetes in  a petient.\n",
    "i didnt use here either skinthickness on bloodpressure because \n",
    "they will have no much effect on the outcome, which says if the \n",
    "patient is diabetec or not."
   ]
  },
  {
   "attachments": {},
   "cell_type": "markdown",
   "id": "4143a846",
   "metadata": {
    "id": "4143a846"
   },
   "source": [
    "## Divide the data into a training set (70%) and a testing set (30%). All models will be trained and tested on the same splits."
   ]
  },
  {
   "cell_type": "code",
   "execution_count": 52,
   "id": "c86fa074",
   "metadata": {
    "id": "c86fa074"
   },
   "outputs": [],
   "source": [
    "# splitting data into training set and testing set\n",
    "X_train, X_test, y_train, y_test = train_test_split(X, y, test_size=0.3, random_state=200)\n",
    "# random_state--> will always shuffle the data in the same way and split it into the same training and testing \n",
    "# sets each time you run your code with that value.\n",
    "\n",
    "# test_size = 0.3--> means that 30% of the data will be used for testing, \n",
    "# and the remaining 70% will be used for training."
   ]
  },
  {
   "attachments": {},
   "cell_type": "markdown",
   "id": "07dea81c",
   "metadata": {
    "id": "07dea81c"
   },
   "source": [
    "# comment on A1\n",
    "Relevant features that could be categorized include:\n",
    "\n",
    "Pregnancies: The total number of pregnancies Glucose: The amount of glucose in the blood for two hours during an oral glucose tolerance test\n",
    "\n",
    "Diastolic blood pressure is measured (mm Hg)\n",
    "2-hour serum insulin concentration (mu U/ml)\n",
    "BMI stands for body mass index (weight in kg/(height in m)2)\n",
    "DiabetesPedigreeFunction: Type 2 diabetes family history (a function which scores likelihood of diabetes based on family history)\n",
    "Age: Years of age\n",
    "These characteristics can be used because it is known that they increase the likelihood of developing diabetes.\n"
   ]
  },
  {
   "attachments": {},
   "cell_type": "markdown",
   "id": "44adf552",
   "metadata": {
    "id": "44adf552"
   },
   "source": [
    "\n",
    "\n",
    "# A2 classification model"
   ]
  },
  {
   "attachments": {},
   "cell_type": "markdown",
   "id": "d254d8b2",
   "metadata": {
    "id": "d254d8b2"
   },
   "source": [
    "**Train three different classification models of our choice using the training set. Explain the rationale behind selecting each of these three algorithms. \n",
    "the following are guidlines for model selection:**\n",
    "\n",
    "\n",
    "Diagram from scikit-learn: \n",
    "https://scikit-learn.org/stable/tutorial/machine_learning_map/\n",
    "\n",
    "\n",
    "Models comparison table: https://docs.google.com/spreadsheets/d/16i47Wmjpj8k-mFRk-NnXXU5tmSQz8h37YxluDV8Zy9U/edit#gid=0"
   ]
  },
  {
   "attachments": {},
   "cell_type": "markdown",
   "id": "37b2a4e2",
   "metadata": {
    "id": "37b2a4e2"
   },
   "source": [
    "\n",
    "The following three classification models may be trained using the training set:\n",
    "\n",
    "a) logistic Regression\n",
    "In binary classification problems, the straightforward and effective approach known as logistic regression is frequently used. It estimates the likelihood of the result in relation to the input features.\n",
    "\n",
    "b) Decision Tree\n",
    "Decision trees are a flexible and easy-to-understand method that can handle both continuous and categorical data. Recursively dividing the feature space into areas that correspond to various classes is how they operate. But has low accuracy so I am not going to use it in my model.\n",
    "\n",
    "c) instead of DTs i will use SVM(Support Vector Machine), SVM is a strong classification algorithm that is capable of correctly classifying datasets with many dimensions. Finding a hyperplane that best divides the dataset into two groups is the foundation of SVM. The two categories in our situation are \"diabetes\" and \"non-diabetic.\"\n",
    "\n",
    "d) Random Forest\n",
    "Several decision trees are combined in random forests, an ensemble learning technique, to enhance performance and lessen overfitting. A random subset of the training data and features is used to train each tree. but instead i will use naive bayes.\n",
    "\n",
    "f) Naive Bayes\n",
    "is a probabilistic classification technique that anticipates the class of a given data point using Bayes' theorem. Naive Bayes makes the assumption that, given the class, the features are conditionally independent of one another. This is a bold assumption, because in reality, the qualities might be interdependent. Yet, even if the independence assumption is broken, Naive Bayes can still perform well."
   ]
  },
  {
   "cell_type": "code",
   "execution_count": 53,
   "id": "f4c1302b",
   "metadata": {
    "id": "f4c1302b"
   },
   "outputs": [],
   "source": [
    "# logistic regression model training\n",
    "logistic_regression_model = LogisticRegression()\n",
    "logistic_regression_model.fit(X_train, y_train)\n",
    "logistic_regression_prediction = logistic_regression_model.predict(X_test)\n",
    "accuracy = accuracy_score(y_test, logistic_regression_prediction)"
   ]
  },
  {
   "cell_type": "code",
   "execution_count": 59,
   "id": "4742a0d9",
   "metadata": {},
   "outputs": [
    {
     "name": "stdout",
     "output_type": "stream",
     "text": [
      "Logistic Regression accuracy:  0.83\n"
     ]
    }
   ],
   "source": [
    "print('Logistic Regression accuracy: ',accuracy)"
   ]
  },
  {
   "cell_type": "code",
   "execution_count": null,
   "id": "1b1bcd62",
   "metadata": {
    "id": "1b1bcd62"
   },
   "outputs": [],
   "source": [
    "# decision tree model training\n",
    "# decision_tree_model = DecisionTreeClassifier()\n",
    "# decision_tree_model.fit(X_train, y_train)\n",
    "# decision_tree_prediction = decision_tree_model.predict(X_test)\n",
    "# decision_tree_accuracy = accuracy_score(y_test, decision_tree_prediction)"
   ]
  },
  {
   "cell_type": "code",
   "execution_count": 54,
   "id": "7f3c0ebf",
   "metadata": {
    "id": "7f3c0ebf"
   },
   "outputs": [],
   "source": [
    "# i tried in the cell above to use decision tree, but i realised that \n",
    "# the DTs have the lowest accuracy so i decided to use support vector machine\n",
    "\n",
    "# first create the class \n",
    "svm_model = SVC(kernel='linear')\n",
    "\n",
    "# train model on the features and target training sets\n",
    "svm_model.fit(X_train, y_train);\n",
    "svm_model_predict = svm_model.predict(X_test)\n",
    "svm_model_accuracy = accuracy_score(y_test, svm_model_predict)"
   ]
  },
  {
   "cell_type": "code",
   "execution_count": 60,
   "id": "48908d6b",
   "metadata": {},
   "outputs": [
    {
     "name": "stdout",
     "output_type": "stream",
     "text": [
      "Support Vector Machine accuracy:  0.83\n"
     ]
    }
   ],
   "source": [
    "print('Support Vector Machine accuracy: ',svm_model_accuracy)"
   ]
  },
  {
   "cell_type": "code",
   "execution_count": null,
   "id": "1ae639e2",
   "metadata": {
    "id": "1ae639e2"
   },
   "outputs": [],
   "source": [
    "# random forest model training\n",
    "# random_forest_model = RandomForestClassifier()\n",
    "# random_forest_model.fit(X_train, y_train)\n",
    "# random_forest_prediction = random_forest_model.predict(X_test)\n",
    "# random_forest_accuracy = accuracy_score(y_test, random_forest_prediction)\n",
    "\n",
    "# tried to use this but it has low accuracy so i used svm instead"
   ]
  },
  {
   "cell_type": "code",
   "execution_count": null,
   "id": "7e9f95c5",
   "metadata": {
    "id": "7e9f95c5"
   },
   "outputs": [],
   "source": [
    "#outputting random forest accuracy\n",
    "#random_forest_accuracy"
   ]
  },
  {
   "cell_type": "code",
   "execution_count": 55,
   "id": "abba3c32",
   "metadata": {
    "id": "abba3c32"
   },
   "outputs": [],
   "source": [
    "# train Naive Bayes\n",
    "gnb_model = GaussianNB()\n",
    "gnb_model.fit(X_train, y_train)\n",
    "gnb_model_predict = gnb_model.predict(X_test)\n",
    "gnb_accuracy = accuracy_score(y_test, gnb_model_predict)"
   ]
  },
  {
   "cell_type": "code",
   "execution_count": 57,
   "id": "041904c2",
   "metadata": {},
   "outputs": [
    {
     "name": "stdout",
     "output_type": "stream",
     "text": [
      "Naive Bayes Accuracy:  0.76\n"
     ]
    }
   ],
   "source": [
    "print('Naive Bayes Accuracy: ', gnb_accuracy)"
   ]
  },
  {
   "attachments": {},
   "cell_type": "markdown",
   "id": "15864cd8",
   "metadata": {},
   "source": [
    "# explaining accuracy results \n",
    "The accuracy score for Support Vector Machine (SVM) and Logistic Regression is 0.83. This indicates that 83% of the data points in the dataset could be accurately classified by both methods.\n",
    "\n",
    "The accuracy score for Naive Bayes, on the other hand, is significantly lower at 0.76, meaning that 76% of the data points were properly identified.\n",
    "\n",
    "These findings imply that, at least in terms of accuracy, Logistic Regression and SVM outperform Naive Bayes on this particular task. It's crucial to keep in mind that accuracy is only one statistic for assessing how well machine learning algorithms perform, and that other metrics like precision, recall, may offer a more detailed picture of their effectiveness.\n",
    "\n",
    "PRECISION, RECALL, AUC IS EVALUATED IN NEXT CELLS"
   ]
  },
  {
   "attachments": {},
   "cell_type": "markdown",
   "id": "2a38444c",
   "metadata": {
    "id": "2a38444c"
   },
   "source": [
    "# A3 Evaluation of classification models"
   ]
  },
  {
   "attachments": {},
   "cell_type": "markdown",
   "id": "927df1fb",
   "metadata": {
    "id": "927df1fb"
   },
   "source": [
    "**A.3. Evaluation of classification models**  \n",
    "* we will Evaluate the performance of the three classification models on the testing set using the following metrics: accuracy, area under the curve (AUC), precision, and recall.\n",
    "* Based on the models evaluation results, what is the best model and why?\n",
    "* How can we improve the performance of the models?"
   ]
  },
  {
   "attachments": {},
   "cell_type": "markdown",
   "id": "0ded3a4d",
   "metadata": {
    "id": "0ded3a4d"
   },
   "source": [
    "# to evaluate the performance of classification model\n",
    "Import the testing set and the required libraries. \n",
    "\n",
    "the training categorization models into memory. \n",
    "\n",
    "To obtain the predicted values for the testing set, use the predict() method.\n",
    "\n",
    "Use the metrics module in scikit-learn to determine the scores for accuracy, AUC, precision, and recall. \n",
    "\n",
    "then lastly, Compare the models' performance across all metrics."
   ]
  },
  {
   "cell_type": "code",
   "execution_count": 21,
   "id": "ef2b1b3d",
   "metadata": {
    "id": "ef2b1b3d"
   },
   "outputs": [],
   "source": [
    "# for Logistic Regression\n",
    "logistic_regg_predicted = logistic_regression_model.predict(X_test)\n",
    "logistic_regg_accuracy = accuracy_score(y_test, logistic_regg_predicted)\n",
    "logistic_regg_auc = roc_auc_score(y_test, logistic_regg_predicted)\n",
    "logistic_regg_precision = precision_score(y_test, logistic_regg_predicted)\n",
    "logistic_regg_recall = recall_score(y_test, logistic_regg_predicted)"
   ]
  },
  {
   "cell_type": "code",
   "execution_count": 22,
   "id": "bb63b8ab",
   "metadata": {
    "colab": {
     "base_uri": "https://localhost:8080/"
    },
    "id": "bb63b8ab",
    "outputId": "80a94b45-45a9-4571-9a3e-d4c44c493a1c"
   },
   "outputs": [
    {
     "name": "stdout",
     "output_type": "stream",
     "text": [
      "logistic regression Accuracy:  0.83\n",
      "logistic regression AUC:  0.7523997741389046\n",
      "logistic regression precision:  0.6363636363636364\n",
      "logistic regression recall:  0.6086956521739131\n"
     ]
    }
   ],
   "source": [
    "print('logistic regression Accuracy: ', logistic_regg_accuracy)\n",
    "print('logistic regression AUC: ', logistic_regg_auc)\n",
    "print('logistic regression precision: ', logistic_regg_precision)\n",
    "print('logistic regression recall: ', logistic_regg_recall)"
   ]
  },
  {
   "attachments": {},
   "cell_type": "markdown",
   "id": "fb38fcca",
   "metadata": {},
   "source": [
    "# comment on logistic regression evaluation\n",
    "The accuracy score of the logistic regression model, which is 0.83. In 83% of the cases, the target variable (or dependent variable) was properly predicted by the model.\n",
    "\n",
    "The model's AUC (Area Under the Curve) score, which is 0.752. This rating gauges how well the model can differentiate between positive and negative classes. AUC values closer to 1 suggest improved performance, whereas AUC values below 0.5 show the model is random.\n",
    "\n",
    "The model's precision score, which is 0.636. Out of all the positive predictions the model made, this score represents the percentage of true positives (positive outcomes that were correctly anticipated).\n",
    "\n",
    "\n",
    "The model's recall score, which is 0.609, is the fourth outcome. Out of all the dataset's real positive results, this score represents the percentage of true positives.\n",
    "\n",
    "\n",
    "Wrapping up, these results suggest that the logistic regression model has reasonably good performance, with high accuracy and an AUC score that is better than random. However, the precision and recall scores suggest that the model may be struggling to accurately predict the positive class."
   ]
  },
  {
   "cell_type": "code",
   "execution_count": null,
   "id": "f483eed7",
   "metadata": {
    "id": "f483eed7"
   },
   "outputs": [],
   "source": [
    "# # for decision tree\n",
    "# decision_tree_prediction = logistic_regression_model.predict(X_test)\n",
    "# decision_tree_accuracy = accuracy_score(y_test, decision_tree_prediction)\n",
    "# decision_tree_precision = precision_score(y_test, decision_tree_prediction)\n",
    "# decision_tree_recall = recall_score(y_test, decision_tree_prediction)"
   ]
  },
  {
   "cell_type": "code",
   "execution_count": 23,
   "id": "f5971eb9",
   "metadata": {
    "id": "f5971eb9"
   },
   "outputs": [],
   "source": [
    "# evaluate support vector machine\n",
    "svm_model_predict = svm_model.predict(X_test)\n",
    "svm_model_auc = roc_auc_score(y_test, svm_model_predict)\n",
    "svm_model_accuracy = accuracy_score(y_test, svm_model_predict)\n",
    "svm_model_precision = precision_score(y_test, svm_model_predict)\n",
    "svm_model_recall = recall_score(y_test, svm_model_predict)"
   ]
  },
  {
   "cell_type": "code",
   "execution_count": 24,
   "id": "2f4470ca",
   "metadata": {
    "colab": {
     "base_uri": "https://localhost:8080/"
    },
    "id": "2f4470ca",
    "outputId": "cf6b6105-565b-444f-da20-ff918d4a2626"
   },
   "outputs": [
    {
     "name": "stdout",
     "output_type": "stream",
     "text": [
      "SVM AUC:  0.7371541501976283\n",
      "SVM accuracy:  0.83\n",
      "SVM precision:  0.65\n",
      "SVM recall:  0.5652173913043478\n"
     ]
    }
   ],
   "source": [
    "print('SVM AUC: ', svm_model_auc)\n",
    "print('SVM accuracy: ', svm_model_accuracy)\n",
    "print('SVM precision: ', svm_model_precision)\n",
    "print('SVM recall: ', svm_model_recall)"
   ]
  },
  {
   "attachments": {},
   "cell_type": "markdown",
   "id": "fd92bbfb",
   "metadata": {},
   "source": [
    "# comment on Support Vector Machine Evaluation\n",
    "the SVM model has an accuracy of 0.83, which means that it correctly classified 83% of the samples.\n",
    "\n",
    "AUC, short for \"area under the curve,\" is the region of the receiver operating characteristic (ROC) curve that is under consideration. The connection between a binary classifier's true positive rate (TPR) and false positive rate (FPR) is depicted on a graph called the ROC curve. The model's ability to differentiate between positive and negative samples is measured by the AUC. The SVM model in this instance has an AUC of 0.737, indicating that it can distinguish between positive and negative data to some extent, however the discrimination power of the model is only moderate.\n",
    "\n",
    "\n",
    "A precision of 0.65 means that the SVM model correctly identified around 65% of the samples it classified as positive.\n",
    "\n",
    "Recall is the percentage of actual positives that are genuine positives. With a recall of 0.565 in this instance, the SVM model accurately identified around 57% of the real positive samples.\n",
    "\n",
    "\n",
    "These results suggest that the SVM model has a similar accuracy and AUC performance to the logistic regression model discussed previously, but with slightly better precision and slightly worse recall. \n",
    "\n",
    "Overall, both models appear to have moderate predictive ability and could potentially benefit from further optimization."
   ]
  },
  {
   "cell_type": "code",
   "execution_count": 25,
   "id": "0914898f",
   "metadata": {
    "id": "0914898f"
   },
   "outputs": [],
   "source": [
    "# evaluate naive bayes model\n",
    "gnb_model_predict = gnb_model.predict(X_test)\n",
    "gnb_model_auc = roc_auc_score(y_test, gnb_model_predict)\n",
    "gnb_model_accuracy = accuracy_score(y_test, gnb_model_predict)\n",
    "gnb_model_precision = precision_score(y_test, gnb_model_predict)\n",
    "gnb_model_recall = recall_score(y_test, gnb_model_predict)"
   ]
  },
  {
   "cell_type": "code",
   "execution_count": 26,
   "id": "61aa9073",
   "metadata": {
    "colab": {
     "base_uri": "https://localhost:8080/"
    },
    "id": "61aa9073",
    "outputId": "fa9b1d75-de29-427f-ccd8-1aab45b72ac0"
   },
   "outputs": [
    {
     "name": "stdout",
     "output_type": "stream",
     "text": [
      "Naive Bayes AUC:  0.7069452286843592\n",
      "Naive Bayes accuracy:  0.76\n",
      "Naive Bayes precision:  0.4827586206896552\n",
      "Naive Bayes recall:  0.6086956521739131\n"
     ]
    }
   ],
   "source": [
    "print('Naive Bayes AUC: ', gnb_model_auc)\n",
    "print('Naive Bayes accuracy: ', gnb_model_accuracy)\n",
    "print('Naive Bayes precision: ', gnb_model_precision)\n",
    "print('Naive Bayes recall: ', gnb_model_recall)"
   ]
  },
  {
   "attachments": {},
   "cell_type": "markdown",
   "id": "8243e631",
   "metadata": {},
   "source": [
    "# comment on Naive Bayes Evaluation\n",
    "Naive Bayes model has an accuracy of 0.76, which means that it correctly classified 76% of the samples.\n",
    "\n",
    "\n",
    "AUC, short for \"area under the curve,\" is the region of the receiver operating characteristic (ROC) curve that is under consideration. The connection between a binary classifier's true positive rate (TPR) and false positive rate (FPR) is depicted on a graph called the ROC curve. The model's ability to differentiate between positive and negative samples is measured by the AUC. The Naive Bayes model in this instance has an AUC of 0.707, indicating that it can distinguish between positive and negative data to some extent, however the discrimination power of the model is only moderate.\n",
    "\n",
    "\n",
    "\n",
    "precision is the percentage of real positive predictions. The Naive Bayes model has a precision of 0.483, which suggests that just 48% of the samples it classified as positive were truly positive.\n",
    "\n",
    "Recall is the percentage of actual positives that are genuine positives. With a recall of 0.609 in this instance, the Naive Bayes model accurately categorized around 61% of the real positive data.\n",
    "\n",
    "\n",
    "these results suggest that the Naive Bayes model has lower accuracy and AUC performance than the previous models, indicating that it has more difficulty distinguishing between positive and negative samples. The model's precision is also lower than the other models, meaning that it may have more false positives. However, the model's recall is similar to the logistic regression model, indicating that it is able to identify a comparable proportion of the actual positive samples. Overall, the Naive Bayes model could benefit from further optimization or potentially be replaced by a model with higher performance."
   ]
  },
  {
   "attachments": {},
   "cell_type": "markdown",
   "id": "48998ea9",
   "metadata": {},
   "source": [
    "# choosing the best Classification model among all\n",
    "From the Evaluation done above using Accuracy, AUC, Precision and Recall. In terms of accuracy, both logistic regression and SVM have an accuracy of 0.83, while Naive Bayes has a lower accuracy of 0.76. This suggests that both logistic regression and SVM have a higher overall proportion of correct predictions than Naive Bayes.\n",
    "\n",
    "In terms of AUC, logistic regression has the highest AUC of 0.752, followed by SVM with an AUC of 0.737, and Naive Bayes with an AUC of 0.707. This indicates that logistic regression has the best overall ability to distinguish between positive and negative samples.\n",
    "\n",
    "\n",
    "In terms of precision and recall, both logistic regression and SVM have higher precision values than Naive Bayes, indicating that they have fewer false positives. However, Naive Bayes has a higher recall value than logistic regression, suggesting that it may be better at identifying the true positives.\n",
    "\n",
    "based on these metrics Logistic regression appears to be the best model for this problem based on the metrics presented, followed closely by SVM, because it has the highest AUC value of 0.752, which indicates that it has the best overall ability to distinguish between positive and negative samples. Additionally, both logistic regression and SVM have an accuracy of 0.83, which is higher than the accuracy of Naive Bayes, suggesting that they have a higher overall proportion of correct predictions. in addition,they have higher precision values than Naive Bayes, indicating that they have fewer false positives. But Naive Bayes has a higher recall value than logistic regression, suggesting that it may be better at identifying the true positives.\n",
    "\n",
    "\n",
    "However, it's important to note that the choice of the best model ultimately depends on the specific requirements of the application, and other factors such as computational complexity, interpretability, and scalability may also need to be considered when choosing a model.\n",
    "\n",
    "** Complex computation refers to the amount of computational resources required to train or use a machine learning model.\n",
    "\n",
    "\n",
    "\n",
    "** Interpretability refers to the degree to which a machine learning model can be understood and explained by humans.logistic regression has high interpretability here.\n",
    "\n",
    "\n",
    "\n",
    "** Scalability refers to the ability of a machine learning model to perform well on increasingly larger amounts of data or under increasing computational demand.\n",
    "\n",
    "\n",
    " \n",
    "\n",
    "\n"
   ]
  },
  {
   "attachments": {},
   "cell_type": "markdown",
   "id": "54e23e64",
   "metadata": {
    "id": "1fb28954"
   },
   "source": [
    " # Many methods can be employed to enhance the functionality of classification models. \n",
    "\n",
    "a) Feature engineering is the process of choosing and modifying the input variables to produce fresh features that enhance the performance of the model. Techniques like normalization, scaling, and dimensionality reduction can be used in this.\n",
    "\n",
    "b) Cross-validation: By dividing the data into training and validation sets, cross-validation is a technique used to evaluate a model's performance. As a result, overfitting is less likely to occur and the model's performance is more precisely estimated.\n",
    "\n",
    "c) Algorithm Selection: The effectiveness of your classification model can be greatly impacted by selecting the appropriate algorithm for your situation. Logistic regression, decision trees, random forests, and support vector machines are common classification algorithms (SVMs).\n",
    "\n",
    "\n",
    "d) Data preprocessing: The accuracy of the model can be increased by preprocessing the data before feeding it to it. To make sure the data is in the right format and range, methods including normalization, data scaling, and data cleaning can be utilized."
   ]
  },
  {
   "attachments": {},
   "cell_type": "markdown",
   "id": "ef37d0c0",
   "metadata": {
    "id": "ef37d0c0"
   },
   "source": [
    "## B. Regression Models"
   ]
  },
  {
   "attachments": {},
   "cell_type": "markdown",
   "id": "d983f772",
   "metadata": {
    "id": "d983f772"
   },
   "source": [
    "**B.1. Data preparation** \n",
    "* we will List the relevant features which will be used for regression and explain why (*a relevant feature is a feature that can have an impact on the glucose measures of the patients*).\n",
    "\n",
    "* we will Divide the data into a training set (70%) and a testing set (30%). All models will be trained and tested on the same splits.\n",
    "    \n",
    "**B.2. Regression models** \n",
    "* then , we will Train two different regression models of our choice using the training set. and Explain the rationale behind selecting each of these two algorithms. \n",
    "\n",
    "**B.3. Evaluation of regression models**\n",
    "* Evaluate the performance of the two regression models on the testing set using the following metrics: mean absolute error,mean squared error, and R-square.\n",
    "* Based on the models evaluation results, what is the best model and why?\n",
    "* How can we improve the performance of the models?\n"
   ]
  },
  {
   "attachments": {},
   "cell_type": "markdown",
   "id": "bd926aec",
   "metadata": {
    "id": "bd926aec"
   },
   "source": [
    "# B Regression Models"
   ]
  },
  {
   "attachments": {},
   "cell_type": "markdown",
   "id": "240328ec",
   "metadata": {
    "id": "240328ec"
   },
   "source": [
    "**B.1. Data preparation**  \n",
    "* List the relevant features which will be used for regression and explain why (*a relevant feature is a feature that can have an impact on the glucose measures of the patients*).\n",
    "\n",
    "* Divide the data into a training set (70%) and a testing set (30%). All models will be trained and tested on the same splits."
   ]
  },
  {
   "attachments": {},
   "cell_type": "markdown",
   "id": "ab0bc62e",
   "metadata": {
    "id": "ab0bc62e"
   },
   "source": [
    "Relevant features for glucose measures prediction could be:\n",
    "\n",
    "Pregnancies\n",
    "\n",
    "BMI\n",
    "\n",
    "Insulin level\n",
    "\n",
    "\n",
    "Diabetes pedigree function\n",
    "\n",
    "\n",
    "Age\n"
   ]
  },
  {
   "cell_type": "code",
   "execution_count": 27,
   "id": "2891a1e0",
   "metadata": {
    "id": "2891a1e0"
   },
   "outputs": [],
   "source": [
    "# select relevant features\n",
    "\n",
    "X = diabetes_cleaned[['Pregnancies','BMI', 'Insulin', 'Age','BloodPressure','SkinThickness','Outcome']]\n",
    "y = diabetes_cleaned['Glucose']\n",
    "\n",
    "#['Pregnancies', 'Glucose', 'Insulin', 'BMI', 'Age','BloodPressure', 'SkinThickness','DiabetesPedigreeFunction'] all features\n",
    "#X = diabetes_cleaned[['Glucose','BMI','Age','DiabetesPedigreeFunction','Outcome']] overfitting\n",
    "# X = diabetes_cleaned[['Pregnancies', ,'BMI','Insulin', 'Age','BloodPressure','Outcome']] The best score I get\n",
    "# X = diabetes_cleaned[['Pregnancies','BMI', 'Insulin', 'Age','BloodPressure','SkinThickness','Outcome']] the second best score I get\n",
    "# here the targeted column is glucose instead of outcome\n"
   ]
  },
  {
   "attachments": {},
   "cell_type": "markdown",
   "id": "2a68c9cd",
   "metadata": {
    "id": "2a68c9cd"
   },
   "source": [
    "# divide data"
   ]
  },
  {
   "cell_type": "code",
   "execution_count": 28,
   "id": "7e15f096",
   "metadata": {
    "id": "7e15f096"
   },
   "outputs": [],
   "source": [
    "# splitting data into training set and testing set\n",
    "X_train, X_test, y_train, y_test = train_test_split(X, y, test_size=0.3, random_state=44)\n",
    "# random_state--> will always shuffle the data in the same way and split it into the same training and testing \n",
    "# sets each time you run your code with that value.\n",
    "\n",
    "# test_size = 0.3--> means that 30% of the data will be used for testing, \n",
    "# and the remaining 70% will be used for training.\n",
    "\n",
    "#random_state=15 > r2 0.56"
   ]
  },
  {
   "cell_type": "code",
   "execution_count": 29,
   "id": "f39b26d6",
   "metadata": {
    "id": "f39b26d6"
   },
   "outputs": [],
   "source": [
    "# using linear regression to evaluate the performance of the model\n",
    "linear_regression = LinearRegression()\n",
    "linear_regression.fit(X_train, y_train)\n",
    "linear_regression_prediction = linear_regression.predict(X_test)\n",
    "\n",
    "lr_MAE = mean_absolute_error(y_test, linear_regression_prediction)\n",
    "lr_MSE = mean_squared_error(y_test, linear_regression_prediction)\n",
    "lr_r2 = r2_score(y_test, linear_regression_prediction)"
   ]
  },
  {
   "cell_type": "code",
   "execution_count": 30,
   "id": "49c3ff85",
   "metadata": {
    "colab": {
     "base_uri": "https://localhost:8080/"
    },
    "id": "49c3ff85",
    "outputId": "67a81b79-617d-492a-cdce-5ff3390d041f"
   },
   "outputs": [
    {
     "name": "stdout",
     "output_type": "stream",
     "text": [
      "Linear Regression MAE:  13.43921382151753\n",
      "Linear Regression MSE:  317.09395786549527\n",
      "Linear Regression r-squared value:  0.6318707788809667\n"
     ]
    }
   ],
   "source": [
    "print('Linear Regression MAE: ', lr_MAE)\n",
    "print('Linear Regression MSE: ', lr_MSE)\n",
    "print('Linear Regression r-squared value: ', lr_r2)"
   ]
  },
  {
   "attachments": {},
   "cell_type": "markdown",
   "id": "1d51d04d",
   "metadata": {},
   "source": [
    "# comment on Linear Regression Evaluation\n",
    "MAE (Mean Absolute Error) measures the average absolute difference between the predicted and actual values. In this case, the MAE value is 13.44, which means that on average, the predicted values deviate from the actual values by about 13.44 units.\n",
    "\n",
    "\n",
    "\n",
    "MSE (Mean Squared Error) measures the average squared difference between the predicted and actual values. In this case, the MSE value is 317.09, which is the average of the squared differences between the predicted and actual values.\n",
    "\n",
    "\n",
    "\n",
    "r-squared value measures the proportion of the variance in the dependent variable that is explained by the independent variables in the model. In this case, the r-squared value is 0.63, which indicates that 63% of the variance in the dependent variable is explained by the independent variables in the model.\n",
    "\n",
    "\n",
    "A lower MAE and MSE values indicate better performance, while a higher r-squared value indicates that the model fits the data well. \n",
    "\n",
    "\n",
    "Therefore, here, the linear regression model has a moderately good fit with the data, but still I need to improve."
   ]
  },
  {
   "cell_type": "code",
   "execution_count": 31,
   "id": "2fdc09bb",
   "metadata": {
    "id": "2fdc09bb"
   },
   "outputs": [],
   "source": [
    "# using random forest to evaluate the performance of the model\n",
    "# Start with 100 trees and a random seed of 88\n",
    "#random_state=11 > r2 0.51\n",
    "random_forest_model = RandomForestRegressor(n_estimators=100, random_state=88)\n",
    "random_forest_model.fit(X_train, y_train)\n",
    "random_forest_model_prediction = random_forest_model.predict(X_test)\n",
    "\n",
    "random_forest_model_MAE = mean_absolute_error(y_test, random_forest_model_prediction)\n",
    "random_forest_model_MSE = mean_squared_error(y_test, random_forest_model_prediction)\n",
    "random_forest_model_r2 = r2_score(y_test, random_forest_model_prediction)\n"
   ]
  },
  {
   "cell_type": "code",
   "execution_count": 32,
   "id": "a601852f",
   "metadata": {
    "colab": {
     "base_uri": "https://localhost:8080/"
    },
    "id": "a601852f",
    "outputId": "9770e593-92cd-491f-95fb-766622177040"
   },
   "outputs": [
    {
     "name": "stdout",
     "output_type": "stream",
     "text": [
      "Random Forest MAE:  16.2613\n",
      "Random Forest MSE:  413.573831\n",
      "Random Forest r-squared value:  0.5198627772471607\n"
     ]
    }
   ],
   "source": [
    "print('Random Forest MAE: ', random_forest_model_MAE)\n",
    "print('Random Forest MSE: ', random_forest_model_MSE)\n",
    "print('Random Forest r-squared value: ', random_forest_model_r2)"
   ]
  },
  {
   "attachments": {},
   "cell_type": "markdown",
   "id": "faebabf8",
   "metadata": {},
   "source": [
    "# comment on random forest Evaluation\n",
    "MAE (Mean Absolute Error) measures the average absolute difference between the predicted and actual values. In this case, the MAE value is 16.26, which means that on average, the predicted values deviate from the actual values by about 16.26 units.\n",
    "\n",
    "\n",
    "\n",
    "\n",
    "MSE (Mean Squared Error) measures the average squared difference between the predicted and actual values. In this case, the MSE value is 413.57, which is the average of the squared differences between the predicted and actual values.\n",
    "\n",
    "\n",
    "\n",
    "\n",
    "r-squared value measures the proportion of the variance in the dependent variable that is explained by the independent variables in the model. In this case, the r-squared value is 0.52, which indicates that 52% of the variance in the dependent variable is explained by the independent variables in the model.\n",
    "\n",
    "Again, A lower MAE and MSE values indicate better performance, while a higher r-squared value indicates that the model fits the data well.\n",
    "\n",
    "Therefore, here, the Random Forest model has a moderately good fit with the data, but still I need to improve\n"
   ]
  },
  {
   "attachments": {},
   "cell_type": "markdown",
   "id": "e213a2fb",
   "metadata": {},
   "source": [
    "# choosing the best Regression model\n",
    "Now based on the evaluation results above for both linear regression and Random Forest, the performance of the linear regression model is slightly better than that of the Random Forest model. \n",
    "\n",
    "Since, The MAE and MSE values for the linear regression model are lower than those of the Random Forest model, indicating that the linear regression model makes more accurate predictions on average.\n",
    "\n",
    "\n",
    "\n",
    "in the other hand, the r-squared value for the linear regression model is higher than that of the Random Forest model, indicating that the linear regression model fits the data better. \n",
    "\n",
    "\n",
    "The linear regression model may be considered the better regression model. "
   ]
  },
  {
   "cell_type": "code",
   "execution_count": null,
   "id": "e2271d02",
   "metadata": {},
   "outputs": [],
   "source": []
  }
 ],
 "metadata": {
  "colab": {
   "provenance": []
  },
  "kernelspec": {
   "display_name": "Python 3 (ipykernel)",
   "language": "python",
   "name": "python3"
  },
  "language_info": {
   "codemirror_mode": {
    "name": "ipython",
    "version": 3
   },
   "file_extension": ".py",
   "mimetype": "text/x-python",
   "name": "python",
   "nbconvert_exporter": "python",
   "pygments_lexer": "ipython3",
   "version": "3.9.13"
  }
 },
 "nbformat": 4,
 "nbformat_minor": 5
}
